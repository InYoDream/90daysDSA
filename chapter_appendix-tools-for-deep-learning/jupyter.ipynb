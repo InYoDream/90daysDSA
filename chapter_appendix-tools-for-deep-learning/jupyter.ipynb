{
  "cells": [
    {
      "cell_type": "code",
      "source": [
        "!apt-get update\n",
        "!apt-get install openjdk-11-jdk -y\n",
        "!pip install pyspark"
      ],
      "metadata": {
        "id": "YooMsGNjfacW",
        "outputId": "378632dc-5a8a-4791-d8a1-cb1186911c16",
        "colab": {
          "base_uri": "https://localhost:8080/"
        }
      },
      "id": "YooMsGNjfacW",
      "execution_count": 9,
      "outputs": [
        {
          "output_type": "stream",
          "name": "stdout",
          "text": [
            "\r0% [Working]\r            \rHit:1 http://archive.ubuntu.com/ubuntu jammy InRelease\n",
            "\r0% [Connecting to security.ubuntu.com (91.189.91.81)] [Connected to cloud.r-project.org (65.9.86.28)\r                                                                                                    \rHit:2 http://archive.ubuntu.com/ubuntu jammy-updates InRelease\n",
            "\r                                                                                                    \rHit:3 http://archive.ubuntu.com/ubuntu jammy-backports InRelease\n",
            "\r0% [Waiting for headers] [Waiting for headers] [Connecting to r2u.stat.illinois.edu (192.17.190.167)\r                                                                                                    \rHit:4 https://cloud.r-project.org/bin/linux/ubuntu jammy-cran40/ InRelease\n",
            "\r0% [Waiting for headers] [Connecting to r2u.stat.illinois.edu (192.17.190.167)] [Connected to develo\r                                                                                                    \rHit:5 https://developer.download.nvidia.com/compute/cuda/repos/ubuntu2204/x86_64  InRelease\n",
            "\r0% [Waiting for headers] [Connected to r2u.stat.illinois.edu (192.17.190.167)] [Waiting for headers]\r                                                                                                    \rHit:6 https://ppa.launchpadcontent.net/deadsnakes/ppa/ubuntu jammy InRelease\n",
            "\r0% [Waiting for headers] [Connected to r2u.stat.illinois.edu (192.17.190.167)] [Waiting for headers]\r                                                                                                    \rHit:7 http://security.ubuntu.com/ubuntu jammy-security InRelease\n",
            "Hit:8 https://ppa.launchpadcontent.net/graphics-drivers/ppa/ubuntu jammy InRelease\n",
            "Hit:9 https://ppa.launchpadcontent.net/ubuntugis/ppa/ubuntu jammy InRelease\n",
            "Hit:10 https://r2u.stat.illinois.edu/ubuntu jammy InRelease\n",
            "Reading package lists... Done\n",
            "W: Skipping acquire of configured file 'main/source/Sources' as repository 'https://r2u.stat.illinois.edu/ubuntu jammy InRelease' does not seem to provide it (sources.list entry misspelt?)\n",
            "Reading package lists... Done\n",
            "Building dependency tree... Done\n",
            "Reading state information... Done\n",
            "openjdk-11-jdk is already the newest version (11.0.26+4-1ubuntu1~22.04).\n",
            "0 upgraded, 0 newly installed, 0 to remove and 25 not upgraded.\n",
            "Requirement already satisfied: pyspark in /usr/local/lib/python3.11/dist-packages (3.5.4)\n",
            "Requirement already satisfied: py4j==0.10.9.7 in /usr/local/lib/python3.11/dist-packages (from pyspark) (0.10.9.7)\n"
          ]
        }
      ]
    },
    {
      "cell_type": "code",
      "source": [
        "import pyspark\n",
        "print(pyspark.__version__)"
      ],
      "metadata": {
        "id": "IHmWkHHpfeaT",
        "outputId": "02a4bf4a-671e-467f-fb7a-fbcbe627adc1",
        "colab": {
          "base_uri": "https://localhost:8080/"
        }
      },
      "id": "IHmWkHHpfeaT",
      "execution_count": 10,
      "outputs": [
        {
          "output_type": "stream",
          "name": "stdout",
          "text": [
            "3.5.4\n"
          ]
        }
      ]
    },
    {
      "cell_type": "code",
      "source": [
        "from pyspark.sql import SparkSession\n",
        "from pyspark import SparkContext"
      ],
      "metadata": {
        "id": "0k68TsKIflKp"
      },
      "id": "0k68TsKIflKp",
      "execution_count": 11,
      "outputs": []
    },
    {
      "cell_type": "code",
      "source": [
        "#creating SparkSession\n",
        "spark = SparkSession.builder.appName(\"ColabSpark\").getOrCreate()\n",
        "\n",
        "#fetching SparkContext from SparkSession\n",
        "sc = spark.sparkContext\n",
        "\n",
        "print(spark)\n",
        "print(sc)"
      ],
      "metadata": {
        "id": "FQRK2ROJfshw",
        "outputId": "79f802d8-1893-4b06-ad57-7200f94e46e7",
        "colab": {
          "base_uri": "https://localhost:8080/"
        }
      },
      "id": "FQRK2ROJfshw",
      "execution_count": 13,
      "outputs": [
        {
          "output_type": "stream",
          "name": "stdout",
          "text": [
            "<pyspark.sql.session.SparkSession object at 0x78d7024c6790>\n",
            "<SparkContext master=local[*] appName=ColabSpark>\n"
          ]
        }
      ]
    },
    {
      "cell_type": "code",
      "source": [
        "#checks if SparkContext is active\n",
        "print(\"SparkContext is available:\", sc is not None)\n",
        "print(\"Spark Web UI:\", sc.uiWebUrl)"
      ],
      "metadata": {
        "id": "Ucr3daT-fuci",
        "outputId": "4adb382a-da3f-409a-b8ae-dd99ddd98542",
        "colab": {
          "base_uri": "https://localhost:8080/"
        }
      },
      "id": "Ucr3daT-fuci",
      "execution_count": 14,
      "outputs": [
        {
          "output_type": "stream",
          "name": "stdout",
          "text": [
            "SparkContext is available: True\n",
            "Spark Web UI: http://203e2e87383d:4040\n"
          ]
        }
      ]
    },
    {
      "cell_type": "code",
      "source": [
        "#creating rdd from a list\n",
        "data_list = [1, 2, 3, 4, 5, 6, 7, 8, 9, 10]\n",
        "rdd_list = sc.parallelize(data_list)\n",
        "print(\"RDD from list:\", rdd_list.collect())"
      ],
      "metadata": {
        "id": "WbuFvEh1f9uM",
        "outputId": "c169eb0e-8c25-47cb-bc43-413e8aad5944",
        "colab": {
          "base_uri": "https://localhost:8080/"
        }
      },
      "id": "WbuFvEh1f9uM",
      "execution_count": 16,
      "outputs": [
        {
          "output_type": "stream",
          "name": "stdout",
          "text": [
            "RDD from list: [1, 2, 3, 4, 5, 6, 7, 8, 9, 10]\n"
          ]
        }
      ]
    },
    {
      "cell_type": "code",
      "source": [],
      "metadata": {
        "id": "g9yP87sbgWI_"
      },
      "id": "g9yP87sbgWI_",
      "execution_count": null,
      "outputs": []
    }
  ],
  "metadata": {
    "kernelspec": {
      "display_name": "Python 3",
      "name": "python3"
    },
    "language_info": {
      "name": "python"
    },
    "required_libs": [],
    "colab": {
      "provenance": []
    }
  },
  "nbformat": 4,
  "nbformat_minor": 5
}