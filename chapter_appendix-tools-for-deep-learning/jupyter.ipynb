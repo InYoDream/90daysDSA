{
  "cells": [
    {
      "cell_type": "code",
      "source": [
        "!apt-get update\n",
        "!apt-get install openjdk-11-jdk -y\n",
        "!pip install pyspark"
      ],
      "metadata": {
        "colab": {
          "base_uri": "https://localhost:8080/"
        },
        "id": "YooMsGNjfacW",
        "outputId": "378632dc-5a8a-4791-d8a1-cb1186911c16"
      },
      "id": "YooMsGNjfacW",
      "execution_count": 9,
      "outputs": [
        {
          "output_type": "stream",
          "name": "stdout",
          "text": [
            "\r0% [Working]\r            \rHit:1 http://archive.ubuntu.com/ubuntu jammy InRelease\n",
            "\r0% [Connecting to security.ubuntu.com (91.189.91.81)] [Connected to cloud.r-project.org (65.9.86.28)\r                                                                                                    \rHit:2 http://archive.ubuntu.com/ubuntu jammy-updates InRelease\n",
            "\r                                                                                                    \rHit:3 http://archive.ubuntu.com/ubuntu jammy-backports InRelease\n",
            "\r0% [Waiting for headers] [Waiting for headers] [Connecting to r2u.stat.illinois.edu (192.17.190.167)\r                                                                                                    \rHit:4 https://cloud.r-project.org/bin/linux/ubuntu jammy-cran40/ InRelease\n",
            "\r0% [Waiting for headers] [Connecting to r2u.stat.illinois.edu (192.17.190.167)] [Connected to develo\r                                                                                                    \rHit:5 https://developer.download.nvidia.com/compute/cuda/repos/ubuntu2204/x86_64  InRelease\n",
            "\r0% [Waiting for headers] [Connected to r2u.stat.illinois.edu (192.17.190.167)] [Waiting for headers]\r                                                                                                    \rHit:6 https://ppa.launchpadcontent.net/deadsnakes/ppa/ubuntu jammy InRelease\n",
            "\r0% [Waiting for headers] [Connected to r2u.stat.illinois.edu (192.17.190.167)] [Waiting for headers]\r                                                                                                    \rHit:7 http://security.ubuntu.com/ubuntu jammy-security InRelease\n",
            "Hit:8 https://ppa.launchpadcontent.net/graphics-drivers/ppa/ubuntu jammy InRelease\n",
            "Hit:9 https://ppa.launchpadcontent.net/ubuntugis/ppa/ubuntu jammy InRelease\n",
            "Hit:10 https://r2u.stat.illinois.edu/ubuntu jammy InRelease\n",
            "Reading package lists... Done\n",
            "W: Skipping acquire of configured file 'main/source/Sources' as repository 'https://r2u.stat.illinois.edu/ubuntu jammy InRelease' does not seem to provide it (sources.list entry misspelt?)\n",
            "Reading package lists... Done\n",
            "Building dependency tree... Done\n",
            "Reading state information... Done\n",
            "openjdk-11-jdk is already the newest version (11.0.26+4-1ubuntu1~22.04).\n",
            "0 upgraded, 0 newly installed, 0 to remove and 25 not upgraded.\n",
            "Requirement already satisfied: pyspark in /usr/local/lib/python3.11/dist-packages (3.5.4)\n",
            "Requirement already satisfied: py4j==0.10.9.7 in /usr/local/lib/python3.11/dist-packages (from pyspark) (0.10.9.7)\n"
          ]
        }
      ]
    },
    {
      "cell_type": "code",
      "source": [
        "import pyspark\n",
        "print(pyspark.__version__)"
      ],
      "metadata": {
        "colab": {
          "base_uri": "https://localhost:8080/"
        },
        "id": "IHmWkHHpfeaT",
        "outputId": "02a4bf4a-671e-467f-fb7a-fbcbe627adc1"
      },
      "id": "IHmWkHHpfeaT",
      "execution_count": 10,
      "outputs": [
        {
          "output_type": "stream",
          "name": "stdout",
          "text": [
            "3.5.4\n"
          ]
        }
      ]
    },
    {
      "cell_type": "code",
      "source": [
        "from pyspark.sql import SparkSession\n",
        "from pyspark import SparkContext"
      ],
      "metadata": {
        "id": "0k68TsKIflKp"
      },
      "id": "0k68TsKIflKp",
      "execution_count": 11,
      "outputs": []
    },
    {
      "cell_type": "code",
      "source": [
        "#creating SparkSession\n",
        "spark = SparkSession.builder.appName(\"ColabSpark\").getOrCreate()\n",
        "\n",
        "#fetching SparkContext from SparkSession\n",
        "sc = spark.sparkContext\n",
        "\n",
        "print(spark)\n",
        "print(sc)"
      ],
      "metadata": {
        "colab": {
          "base_uri": "https://localhost:8080/"
        },
        "id": "FQRK2ROJfshw",
        "outputId": "79f802d8-1893-4b06-ad57-7200f94e46e7"
      },
      "id": "FQRK2ROJfshw",
      "execution_count": 13,
      "outputs": [
        {
          "output_type": "stream",
          "name": "stdout",
          "text": [
            "<pyspark.sql.session.SparkSession object at 0x78d7024c6790>\n",
            "<SparkContext master=local[*] appName=ColabSpark>\n"
          ]
        }
      ]
    },
    {
      "cell_type": "code",
      "source": [
        "#checks if SparkContext is active\n",
        "print(\"SparkContext is available:\", sc is not None)\n",
        "print(\"Spark Web UI:\", sc.uiWebUrl)"
      ],
      "metadata": {
        "colab": {
          "base_uri": "https://localhost:8080/"
        },
        "id": "Ucr3daT-fuci",
        "outputId": "4adb382a-da3f-409a-b8ae-dd99ddd98542"
      },
      "id": "Ucr3daT-fuci",
      "execution_count": 14,
      "outputs": [
        {
          "output_type": "stream",
          "name": "stdout",
          "text": [
            "SparkContext is available: True\n",
            "Spark Web UI: http://203e2e87383d:4040\n"
          ]
        }
      ]
    },
    {
      "cell_type": "code",
      "source": [
        "#creating rdd from a list\n",
        "data_list = [1, 2, 3, 4, 5, 6, 7, 8, 9, 10]\n",
        "rdd_list = sc.parallelize(data_list)\n",
        "print(\"RDD from list:\", rdd_list.collect())"
      ],
      "metadata": {
        "colab": {
          "base_uri": "https://localhost:8080/"
        },
        "id": "WbuFvEh1f9uM",
        "outputId": "c169eb0e-8c25-47cb-bc43-413e8aad5944"
      },
      "id": "WbuFvEh1f9uM",
      "execution_count": 16,
      "outputs": [
        {
          "output_type": "stream",
          "name": "stdout",
          "text": [
            "RDD from list: [1, 2, 3, 4, 5, 6, 7, 8, 9, 10]\n"
          ]
        }
      ]
    },
    {
      "cell_type": "code",
      "source": [
        "#creating rdd from text file\n",
        "rdd_text = sc.textFile(\"sample3.txt\")\n",
        "\n",
        "print(\"RDD from text file:\", rdd_text.take(5))"
      ],
      "metadata": {
        "colab": {
          "base_uri": "https://localhost:8080/"
        },
        "id": "g9yP87sbgWI_",
        "outputId": "b54737cb-e638-47ed-e064-aba846340ac2"
      },
      "id": "g9yP87sbgWI_",
      "execution_count": 17,
      "outputs": [
        {
          "output_type": "stream",
          "name": "stdout",
          "text": [
            "RDD from text file: ['Quod equidem non reprehendo;', 'Lorem ipsum dolor sit amet, consectetur adipiscing elit. Quibus natura iure responderit non esse verum aliunde finem beate vivendi, a se principia rei gerendae peti; Quae enim adhuc protulisti, popularia sunt, ego autem a te elegantiora desidero. Duo Reges: constructio interrete. Tum Lucius: Mihi vero ista valde probata sunt, quod item fratri puto. Bestiarum vero nullum iudicium puto. Nihil enim iam habes, quod ad corpus referas; Deinde prima illa, quae in congressu solemus: Quid tu, inquit, huc? Et homini, qui ceteris animantibus plurimum praestat, praecipue a natura nihil datum esse dicemus?', '', 'Iam id ipsum absurdum, maximum malum neglegi. Quod ea non occurrentia fingunt, vincunt Aristonem; Atqui perspicuum est hominem e corpore animoque constare, cum primae sint animi partes, secundae corporis. Fieri, inquam, Triari, nullo pacto potest, ut non dicas, quid non probes eius, a quo dissentias. Equidem e Cn. An dubium est, quin virtus ita maximam partem optineat in rebus humanis, ut reliquas obruat?', '']\n"
          ]
        }
      ]
    },
    {
      "cell_type": "code",
      "source": [
        "#creating rdd from a .csv file\n",
        "!wget https://people.sc.fsu.edu/~jburkardt/data/csv/hw_200.csv -O sample.csv\n",
        "rdd_csv = sc.textFile(\"sample.csv\")\n",
        "\n",
        "print(\"RDD from CSV file:\", rdd_csv.take(5))"
      ],
      "metadata": {
        "id": "7tKUVlRrhAmQ",
        "outputId": "38c54080-5023-4f73-f903-40e6f9a674fc",
        "colab": {
          "base_uri": "https://localhost:8080/"
        }
      },
      "id": "7tKUVlRrhAmQ",
      "execution_count": 18,
      "outputs": [
        {
          "output_type": "stream",
          "name": "stdout",
          "text": [
            "--2025-02-09 11:44:41--  https://people.sc.fsu.edu/~jburkardt/data/csv/hw_200.csv\n",
            "Resolving people.sc.fsu.edu (people.sc.fsu.edu)... 144.174.0.22\n",
            "Connecting to people.sc.fsu.edu (people.sc.fsu.edu)|144.174.0.22|:443... connected.\n",
            "HTTP request sent, awaiting response... 200 OK\n",
            "Length: 3734 (3.6K) [text/csv]\n",
            "Saving to: ‘sample.csv’\n",
            "\n",
            "sample.csv          100%[===================>]   3.65K  --.-KB/s    in 0s      \n",
            "\n",
            "2025-02-09 11:44:42 (1.14 GB/s) - ‘sample.csv’ saved [3734/3734]\n",
            "\n",
            "RDD from CSV file: ['\"Index\", Height(Inches)\", \"Weight(Pounds)\"', '1, 65.78, 112.99', '2, 71.52, 136.49', '3, 69.40, 153.03', '4, 68.22, 142.34']\n"
          ]
        }
      ]
    },
    {
      "cell_type": "code",
      "source": [
        "#using map() function to apply transformation to every element in a rdd\n",
        "rdd = sc.parallelize([10,20,30,40,50,60])\n",
        "\n",
        "#turn each number into its cube\n",
        "rdd_cube = rdd.map(lambda x: x ** 3)\n",
        "\n",
        "print(\"Squared numbers:\", rdd_cube.collect())"
      ],
      "metadata": {
        "id": "ohbc53OChnVK",
        "outputId": "a69e47ae-4b11-4724-8ff9-c535847eda94",
        "colab": {
          "base_uri": "https://localhost:8080/"
        }
      },
      "id": "ohbc53OChnVK",
      "execution_count": 21,
      "outputs": [
        {
          "output_type": "stream",
          "name": "stdout",
          "text": [
            "Squared numbers: [1000, 8000, 27000, 64000, 125000, 216000]\n"
          ]
        }
      ]
    },
    {
      "cell_type": "code",
      "source": [
        "#implementing the filter() function to store only those numbers divisible by 20\n",
        "rdd_even = rdd.filter(lambda x: x % 20 == 0)\n",
        "\n",
        "print(\"Even numbers:\", rdd_even.collect())"
      ],
      "metadata": {
        "id": "r26P1GPdiMEY",
        "outputId": "dd15a5af-7717-4a90-eae8-bd739819d20d",
        "colab": {
          "base_uri": "https://localhost:8080/"
        }
      },
      "id": "r26P1GPdiMEY",
      "execution_count": 23,
      "outputs": [
        {
          "output_type": "stream",
          "name": "stdout",
          "text": [
            "Even numbers: [20, 40, 60]\n"
          ]
        }
      ]
    },
    {
      "cell_type": "code",
      "source": [
        "#implementing flatmap() to break text into words\n",
        "rdd_text = sc.parallelize([\"Hello world\", \"Harman is awesome\", \"Computer Science Engineering\"])\n",
        "\n",
        "rdd_words = rdd_text.flatMap(lambda line: line.split(\" \"))\n",
        "\n",
        "print(\"Words in text:\", rdd_words.collect())"
      ],
      "metadata": {
        "id": "A0PR1ndgieRF",
        "outputId": "63606da9-3216-4581-d626-2dec5102afc3",
        "colab": {
          "base_uri": "https://localhost:8080/"
        }
      },
      "id": "A0PR1ndgieRF",
      "execution_count": 24,
      "outputs": [
        {
          "output_type": "stream",
          "name": "stdout",
          "text": [
            "Words in text: ['Hello', 'world', 'Harman', 'is', 'awesome', 'Computer', 'Science', 'Engineering']\n"
          ]
        }
      ]
    },
    {
      "cell_type": "code",
      "source": [
        "#implementing collect() to retrieve all elements\n",
        "rdd = sc.parallelize([10, 20, 30, 40, 50])\n",
        "\n",
        "result = rdd.collect()\n",
        "print(\"All elements in RDD:\", result)"
      ],
      "metadata": {
        "id": "OTonWCdAjA11",
        "outputId": "29f56dd0-690f-4e27-99ab-c3351f792c95",
        "colab": {
          "base_uri": "https://localhost:8080/"
        }
      },
      "id": "OTonWCdAjA11",
      "execution_count": 25,
      "outputs": [
        {
          "output_type": "stream",
          "name": "stdout",
          "text": [
            "All elements in RDD: [10, 20, 30, 40, 50]\n"
          ]
        }
      ]
    },
    {
      "cell_type": "code",
      "source": [
        "#count() implementation\n",
        "count_result = rdd.count()\n",
        "\n",
        "print(\"Number of elements in RDD:\", count_result)"
      ],
      "metadata": {
        "id": "-O8lZHd4jp5s",
        "outputId": "edadf474-a2b1-40ab-e5ec-97a9b40a124f",
        "colab": {
          "base_uri": "https://localhost:8080/"
        }
      },
      "id": "-O8lZHd4jp5s",
      "execution_count": 27,
      "outputs": [
        {
          "output_type": "stream",
          "name": "stdout",
          "text": [
            "Number of elements in RDD: 5\n"
          ]
        }
      ]
    },
    {
      "cell_type": "code",
      "source": [
        "#using reduce() to compute the sum of elements\n",
        "sum_result = rdd.reduce(lambda a, b: a + b)\n",
        "\n",
        "print(\"Sum of elements in RDD:\", sum_result)"
      ],
      "metadata": {
        "id": "LURlTsLgjtvO",
        "outputId": "85572628-e95d-4a73-9f0c-94ba26ac0024",
        "colab": {
          "base_uri": "https://localhost:8080/"
        }
      },
      "id": "LURlTsLgjtvO",
      "execution_count": 28,
      "outputs": [
        {
          "output_type": "stream",
          "name": "stdout",
          "text": [
            "Sum of elements in RDD: 150\n"
          ]
        }
      ]
    },
    {
      "cell_type": "code",
      "source": [
        "#implementing take() to fetch n elements from the rdd\n",
        "first_three = rdd.take(3)\n",
        "\n",
        "print(\"First 3 elements:\", first_three)"
      ],
      "metadata": {
        "id": "8q2XDQsmj40Y",
        "outputId": "dbeafc65-0156-47b5-877c-3eab3655d634",
        "colab": {
          "base_uri": "https://localhost:8080/"
        }
      },
      "id": "8q2XDQsmj40Y",
      "execution_count": 29,
      "outputs": [
        {
          "output_type": "stream",
          "name": "stdout",
          "text": [
            "First 3 elements: [10, 20, 30]\n"
          ]
        }
      ]
    },
    {
      "cell_type": "code",
      "source": [],
      "metadata": {
        "id": "IA764uLekCcv"
      },
      "id": "IA764uLekCcv",
      "execution_count": null,
      "outputs": []
    }
  ],
  "metadata": {
    "kernelspec": {
      "display_name": "Python 3",
      "name": "python3"
    },
    "language_info": {
      "name": "python"
    },
    "required_libs": [],
    "colab": {
      "provenance": []
    }
  },
  "nbformat": 4,
  "nbformat_minor": 5
}